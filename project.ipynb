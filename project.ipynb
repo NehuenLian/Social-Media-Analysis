{
 "cells": [
  {
   "cell_type": "code",
   "execution_count": 1,
   "metadata": {},
   "outputs": [],
   "source": [
    "import pandas as pd\n",
    "import matplotlib.pyplot as plt"
   ]
  },
  {
   "cell_type": "code",
   "execution_count": 2,
   "metadata": {},
   "outputs": [],
   "source": [
    "data = 'dummy_data.csv'\n",
    "\n",
    "df = pd.read_csv(data)"
   ]
  },
  {
   "cell_type": "code",
   "execution_count": 3,
   "metadata": {},
   "outputs": [
    {
     "name": "stdout",
     "output_type": "stream",
     "text": [
      "(1000, 12)\n"
     ]
    },
    {
     "data": {
      "text/plain": [
       "Index(['age', 'gender', 'time_spent', 'platform', 'interests', 'location',\n",
       "       'demographics', 'profession', 'income', 'indebt', 'isHomeOwner',\n",
       "       'Owns_Car'],\n",
       "      dtype='object')"
      ]
     },
     "execution_count": 3,
     "metadata": {},
     "output_type": "execute_result"
    }
   ],
   "source": [
    "print(df.shape)\n",
    "df.columns"
   ]
  },
  {
   "cell_type": "code",
   "execution_count": 4,
   "metadata": {},
   "outputs": [
    {
     "data": {
      "text/html": [
       "<div>\n",
       "<style scoped>\n",
       "    .dataframe tbody tr th:only-of-type {\n",
       "        vertical-align: middle;\n",
       "    }\n",
       "\n",
       "    .dataframe tbody tr th {\n",
       "        vertical-align: top;\n",
       "    }\n",
       "\n",
       "    .dataframe thead th {\n",
       "        text-align: right;\n",
       "    }\n",
       "</style>\n",
       "<table border=\"1\" class=\"dataframe\">\n",
       "  <thead>\n",
       "    <tr style=\"text-align: right;\">\n",
       "      <th></th>\n",
       "      <th>age</th>\n",
       "      <th>gender</th>\n",
       "      <th>time_spent</th>\n",
       "      <th>platform</th>\n",
       "      <th>interests</th>\n",
       "      <th>location</th>\n",
       "      <th>demographics</th>\n",
       "      <th>profession</th>\n",
       "      <th>income</th>\n",
       "      <th>indebt</th>\n",
       "      <th>isHomeOwner</th>\n",
       "      <th>Owns_Car</th>\n",
       "    </tr>\n",
       "  </thead>\n",
       "  <tbody>\n",
       "    <tr>\n",
       "      <th>0</th>\n",
       "      <td>56</td>\n",
       "      <td>male</td>\n",
       "      <td>3</td>\n",
       "      <td>Instagram</td>\n",
       "      <td>Sports</td>\n",
       "      <td>United Kingdom</td>\n",
       "      <td>Urban</td>\n",
       "      <td>Software Engineer</td>\n",
       "      <td>19774</td>\n",
       "      <td>True</td>\n",
       "      <td>False</td>\n",
       "      <td>False</td>\n",
       "    </tr>\n",
       "    <tr>\n",
       "      <th>1</th>\n",
       "      <td>46</td>\n",
       "      <td>female</td>\n",
       "      <td>2</td>\n",
       "      <td>Facebook</td>\n",
       "      <td>Travel</td>\n",
       "      <td>United Kingdom</td>\n",
       "      <td>Urban</td>\n",
       "      <td>Student</td>\n",
       "      <td>10564</td>\n",
       "      <td>True</td>\n",
       "      <td>True</td>\n",
       "      <td>True</td>\n",
       "    </tr>\n",
       "    <tr>\n",
       "      <th>2</th>\n",
       "      <td>32</td>\n",
       "      <td>male</td>\n",
       "      <td>8</td>\n",
       "      <td>Instagram</td>\n",
       "      <td>Sports</td>\n",
       "      <td>Australia</td>\n",
       "      <td>Sub_Urban</td>\n",
       "      <td>Marketer Manager</td>\n",
       "      <td>13258</td>\n",
       "      <td>False</td>\n",
       "      <td>False</td>\n",
       "      <td>False</td>\n",
       "    </tr>\n",
       "    <tr>\n",
       "      <th>3</th>\n",
       "      <td>60</td>\n",
       "      <td>non-binary</td>\n",
       "      <td>5</td>\n",
       "      <td>Instagram</td>\n",
       "      <td>Travel</td>\n",
       "      <td>United Kingdom</td>\n",
       "      <td>Urban</td>\n",
       "      <td>Student</td>\n",
       "      <td>12500</td>\n",
       "      <td>False</td>\n",
       "      <td>True</td>\n",
       "      <td>False</td>\n",
       "    </tr>\n",
       "    <tr>\n",
       "      <th>4</th>\n",
       "      <td>25</td>\n",
       "      <td>male</td>\n",
       "      <td>1</td>\n",
       "      <td>Instagram</td>\n",
       "      <td>Lifestlye</td>\n",
       "      <td>Australia</td>\n",
       "      <td>Urban</td>\n",
       "      <td>Software Engineer</td>\n",
       "      <td>14566</td>\n",
       "      <td>False</td>\n",
       "      <td>True</td>\n",
       "      <td>True</td>\n",
       "    </tr>\n",
       "  </tbody>\n",
       "</table>\n",
       "</div>"
      ],
      "text/plain": [
       "   age      gender  time_spent   platform  interests        location  \\\n",
       "0   56        male           3  Instagram     Sports  United Kingdom   \n",
       "1   46      female           2   Facebook     Travel  United Kingdom   \n",
       "2   32        male           8  Instagram     Sports       Australia   \n",
       "3   60  non-binary           5  Instagram     Travel  United Kingdom   \n",
       "4   25        male           1  Instagram  Lifestlye       Australia   \n",
       "\n",
       "  demographics         profession  income  indebt  isHomeOwner  Owns_Car  \n",
       "0        Urban  Software Engineer   19774    True        False     False  \n",
       "1        Urban            Student   10564    True         True      True  \n",
       "2    Sub_Urban   Marketer Manager   13258   False        False     False  \n",
       "3        Urban            Student   12500   False         True     False  \n",
       "4        Urban  Software Engineer   14566   False         True      True  "
      ]
     },
     "execution_count": 4,
     "metadata": {},
     "output_type": "execute_result"
    }
   ],
   "source": [
    "df.head(5)"
   ]
  },
  {
   "cell_type": "code",
   "execution_count": 5,
   "metadata": {},
   "outputs": [
    {
     "name": "stdout",
     "output_type": "stream",
     "text": [
      "Australia         352\n",
      "United Kingdom    329\n",
      "United States     319 \n",
      "\n",
      "male          337\n",
      "non-binary    332\n",
      "female        331 \n",
      "\n",
      "Instagram    363\n",
      "YouTube      330\n",
      "Facebook     307 \n",
      "\n",
      "Marketer Manager     355\n",
      "Software Engineer    336\n",
      "Student              309 \n",
      "\n",
      "Lifestlye    341\n",
      "Sports       331\n",
      "Travel       328 \n",
      "\n"
     ]
    }
   ],
   "source": [
    "#Count how many times repeats each unique value repeats and store it in each variable\n",
    "\n",
    "country = df['location'].value_counts()\n",
    "gender = df['gender'].value_counts()\n",
    "platform = df['platform'].value_counts()\n",
    "profession = df['profession'].value_counts()\n",
    "interests = df['interests'].value_counts()\n",
    "\n",
    "columns_list = [country, gender, platform, profession, interests] #Create a list that contains each column-variable\n",
    "\n",
    "for column in columns_list:                         #Loop to show results in order\n",
    "    print(column.to_string(header=False), \"\\n\")"
   ]
  },
  {
   "cell_type": "code",
   "execution_count": 6,
   "metadata": {},
   "outputs": [
    {
     "name": "stdout",
     "output_type": "stream",
     "text": [
      "The mean time spented in social media of men is: 4.8 hours.\n",
      "\n",
      "The mean time spented in social media of women is: 5.2 hours.\n",
      "\n",
      "The mean time spented in social media of non-binary people is: 5.1 hours.\n"
     ]
    }
   ],
   "source": [
    "#Calculate the average time spent in social media separated by gender and then print the results\n",
    "\n",
    "male = round(df[df['gender'] == 'male']['time_spent'].mean(), 1)\n",
    "female = round(df[df['gender'] == 'female']['time_spent'].mean(), 1)        #round() has been used for limit the floats\n",
    "non_binary = round(df[df['gender'] == 'non-binary']['time_spent'].mean(), 1)\n",
    "\n",
    "print(f'The mean time spented in social media of men is: {male} hours.')\n",
    "print(f'\\nThe mean time spented in social media of women is: {female} hours.')       #Show results\n",
    "print(f'\\nThe mean time spented in social media of non-binary people is: {non_binary} hours.')"
   ]
  },
  {
   "cell_type": "code",
   "execution_count": 7,
   "metadata": {},
   "outputs": [
    {
     "data": {
      "image/png": "[encoded data removed]",
      "text/plain": [
       "<Figure size 1000x400 with 1 Axes>"
      ]
     },
     "metadata": {},
     "output_type": "display_data"
    }
   ],
   "source": [
    "#Group by gender for then calculate the mean time spent in social media for each gender\n",
    "\n",
    "gender_income = df.groupby('gender')['time_spent'].mean()\n",
    "\n",
    "plt.figure(figsize=(10, 4))\n",
    "gender_income.plot(kind='barh', color='skyblue')\n",
    "plt.xlabel('Gender')\n",
    "plt.ylabel('Hours')\n",
    "plt.title('Hours spent in social media by gender')\n",
    "\n",
    "plt.show()"
   ]
  },
  {
   "cell_type": "code",
   "execution_count": 8,
   "metadata": {},
   "outputs": [
    {
     "name": "stdout",
     "output_type": "stream",
     "text": [
      "The mean income of the men is: $14920.\n",
      "\n",
      "The mean income of the woman is: $15186.\n",
      "\n",
      "The mean income of the non-binary people is: $14941.\n"
     ]
    }
   ],
   "source": [
    "#Separate the income by gender and then calculate the mean salary for each gender\n",
    "\n",
    "male = round(df[df['gender'] == 'male']['income'].mean())\n",
    "female = round(df[df['gender'] == 'female']['income'].mean())        #round() has been used for limit the floats\n",
    "non_binary = round(df[df['gender'] == 'non-binary']['income'].mean())\n",
    "\n",
    "print(f'The mean income of the men is: ${male}.')\n",
    "print(f'\\nThe mean income of the woman is: ${female}.')                #Show results\n",
    "print(f'\\nThe mean income of the non-binary people is: ${non_binary}.')\n"
   ]
  },
  {
   "cell_type": "code",
   "execution_count": 9,
   "metadata": {},
   "outputs": [
    {
     "data": {
      "image/png": "[encoded data removed]",
      "text/plain": [
       "<Figure size 1000x400 with 1 Axes>"
      ]
     },
     "metadata": {},
     "output_type": "display_data"
    }
   ],
   "source": [
    "#Group by gender for then calculate the mean income for each gender\n",
    "\n",
    "gender_income = df.groupby('gender')['income'].mean()\n",
    "\n",
    "plt.figure(figsize=(10, 4))\n",
    "gender_income.plot(kind='barh', color='skyblue')\n",
    "plt.xlabel('Mean income')\n",
    "plt.ylabel('Gender')\n",
    "plt.title('Mean income by gender')\n",
    "\n",
    "plt.show()\n"
   ]
  },
  {
   "cell_type": "code",
   "execution_count": 10,
   "metadata": {},
   "outputs": [
    {
     "name": "stdout",
     "output_type": "stream",
     "text": [
      "Number of people without a car by gender: \n",
      "female        147\n",
      "male          146\n",
      "non-binary    168\n",
      "\n",
      "Number of people with a car by gender: \n",
      "female        184\n",
      "male          191\n",
      "non-binary    164\n"
     ]
    }
   ],
   "source": [
    "#Group by gender for make a count of hoy many persons of each gender has a car or not\n",
    "\n",
    "gender_car = df.groupby('gender')['Owns_Car'].count()\n",
    "\n",
    "no_car_gender = df[df['Owns_Car'] == False].groupby('gender')['Owns_Car'].count()   #First, select the rows where ['Owns_Car'] is False, then group by the 3 genders\n",
    "\n",
    "car_gender = df[df['Owns_Car'] == True].groupby('gender')['Owns_Car'].count()   #First, select the rows where ['Owns_Car'] is True, then group by the 3 genders                                                                          \n",
    "\n",
    "print(f\"Number of people without a car by gender: \\n{no_car_gender.to_string(header=False)}\")   #Show Results\n",
    "print(f\"\\nNumber of people with a car by gender: \\n{car_gender.to_string(header=False)}\")\n",
    "\n"
   ]
  },
  {
   "cell_type": "code",
   "execution_count": 11,
   "metadata": {},
   "outputs": [
    {
     "data": {
      "image/png": "[encoded data removed]",
      "text/plain": [
       "<Figure size 1000x400 with 1 Axes>"
      ]
     },
     "metadata": {},
     "output_type": "display_data"
    },
    {
     "name": "stdout",
     "output_type": "stream",
     "text": [
      "How many people use each social media? \n",
      "Facebook     307\n",
      "Instagram    363\n",
      "YouTube      330\n"
     ]
    }
   ],
   "source": [
    "#Group how many persons of each gender use each one of the 3 networks\n",
    "\n",
    "platform = df.groupby('platform')['gender'].count()\n",
    "\n",
    "plt.figure(figsize=(10, 4))\n",
    "\n",
    "platform.plot(kind='barh', color='pink')\n",
    "plt.ylabel('Platform')\n",
    "plt.xlabel('Users Quantity')\n",
    "plt.title('Social media popularity')\n",
    "\n",
    "plt.show()\n",
    "\n",
    "print(f\"How many people use each social media? \\n{platform.to_string(header=False)}\")   #Show results, where to_string(header=False) is used to generate a more clean print of the results"
   ]
  },
  {
   "cell_type": "code",
   "execution_count": 12,
   "metadata": {},
   "outputs": [
    {
     "name": "stdout",
     "output_type": "stream",
     "text": [
      "Quantity of Marketer Managers of each gender: \n",
      "female        108\n",
      "male          120\n",
      "non-binary    127\n",
      "\n",
      "Quantity of Software Engineers of each gender: \n",
      "female        115\n",
      "male          116\n",
      "non-binary    105\n",
      "\n",
      "Quantity of Students of each gender: \n",
      "female        108\n",
      "male          101\n",
      "non-binary    100\n"
     ]
    }
   ],
   "source": [
    "#Group each profession by each gender, for make a count of how many of each gender dedicates to each one of the 3 professions\n",
    "\n",
    "profession = df.groupby('profession')['gender'].count()\n",
    "\n",
    "#Store in a different variable each profession, gruoped by gender\n",
    "    # -> After grouping, make a count of how many people of each gender dedicates to each profession\n",
    "        # -> Renames the profession column by the name of the variable and the profession assigned to these variable\n",
    "\n",
    "profession_genderMM = df[df['profession'] == 'Marketer Manager'].groupby('gender')['profession'].count().rename('Marketer Manager')\n",
    "profession_genderSE = df[df['profession'] == 'Software Engineer'].groupby('gender')['profession'].count().rename('Software Engineer')\n",
    "profession_genderS = df[df['profession'] == 'Student'].groupby('gender')['profession'].count().rename('Student')\n",
    "\n",
    "print(f\"Quantity of Marketer Managers of each gender: \\n{profession_genderMM.to_string(header=False)}\")\n",
    "print(f\"\\nQuantity of Software Engineers of each gender: \\n{profession_genderSE.to_string(header=False)}\")   #Show Results\n",
    "print(f\"\\nQuantity of Students of each gender: \\n{profession_genderS.to_string(header=False)}\")"
   ]
  },
  {
   "cell_type": "code",
   "execution_count": 13,
   "metadata": {},
   "outputs": [
    {
     "data": {
      "text/html": [
       "<div>\n",
       "<style scoped>\n",
       "    .dataframe tbody tr th:only-of-type {\n",
       "        vertical-align: middle;\n",
       "    }\n",
       "\n",
       "    .dataframe tbody tr th {\n",
       "        vertical-align: top;\n",
       "    }\n",
       "\n",
       "    .dataframe thead th {\n",
       "        text-align: right;\n",
       "    }\n",
       "</style>\n",
       "<table border=\"1\" class=\"dataframe\">\n",
       "  <thead>\n",
       "    <tr style=\"text-align: right;\">\n",
       "      <th></th>\n",
       "      <th>Marketer Manager</th>\n",
       "      <th>Software Engineer</th>\n",
       "      <th>Student</th>\n",
       "    </tr>\n",
       "    <tr>\n",
       "      <th>gender</th>\n",
       "      <th></th>\n",
       "      <th></th>\n",
       "      <th></th>\n",
       "    </tr>\n",
       "  </thead>\n",
       "  <tbody>\n",
       "    <tr>\n",
       "      <th>female</th>\n",
       "      <td>108</td>\n",
       "      <td>115</td>\n",
       "      <td>108</td>\n",
       "    </tr>\n",
       "    <tr>\n",
       "      <th>male</th>\n",
       "      <td>120</td>\n",
       "      <td>116</td>\n",
       "      <td>101</td>\n",
       "    </tr>\n",
       "    <tr>\n",
       "      <th>non-binary</th>\n",
       "      <td>127</td>\n",
       "      <td>105</td>\n",
       "      <td>100</td>\n",
       "    </tr>\n",
       "  </tbody>\n",
       "</table>\n",
       "</div>"
      ],
      "text/plain": [
       "            Marketer Manager  Software Engineer  Student\n",
       "gender                                                  \n",
       "female                   108                115      108\n",
       "male                     120                116      101\n",
       "non-binary               127                105      100"
      ]
     },
     "execution_count": 13,
     "metadata": {},
     "output_type": "execute_result"
    }
   ],
   "source": [
    "#A variable is created with a list of the previous variables, wich divide the quantity of people dedicated to these professions\n",
    "profession_list = [profession_genderMM, profession_genderSE, profession_genderS]\n",
    "\n",
    "#A DataFrame is created with the data of the variables, extracted for the original DataFrame\n",
    "profession_df = pd.DataFrame(profession_list)\n",
    "\n",
    "#Indices and columns are correctly placed with the function transpose()\n",
    "profession_df.transpose()"
   ]
  },
  {
   "cell_type": "code",
   "execution_count": 14,
   "metadata": {},
   "outputs": [
    {
     "data": {
      "text/plain": [
       "<Figure size 1000x400 with 0 Axes>"
      ]
     },
     "metadata": {},
     "output_type": "display_data"
    },
    {
     "data": {
      "image/png": "[encoded data removed]",
      "text/plain": [
       "<Figure size 640x480 with 1 Axes>"
      ]
     },
     "metadata": {},
     "output_type": "display_data"
    }
   ],
   "source": [
    "#Graphic for visualize the quantity of professionals by gender\n",
    "\n",
    "plt.figure(figsize=(10, 4))\n",
    "\n",
    "profession_df.plot(kind='barh')\n",
    "plt.ylabel('Quantity')\n",
    "plt.xlabel('Profession')\n",
    "plt.title('Professionals quantity by gender')\n",
    "plt.legend(fontsize='8.5')\n",
    "plt.show()"
   ]
  },
  {
   "cell_type": "code",
   "execution_count": 15,
   "metadata": {},
   "outputs": [
    {
     "name": "stdout",
     "output_type": "stream",
     "text": [
      "Quantity of persons who no owns a house by gender: \n",
      "female        159\n",
      "male          171\n",
      "non-binary    162\n",
      "\n",
      "Quantity of persons who owns a house by gender \n",
      "female        172\n",
      "male          166\n",
      "non-binary    170\n"
     ]
    }
   ],
   "source": [
    "#Grouping by gender who owns a property or not\n",
    "\n",
    "gender_house = df.groupby('gender')['isHomeOwner'].count()\n",
    "\n",
    "no_house_gender = df[df['isHomeOwner'] == False].groupby('gender')['isHomeOwner'].count() #Store in a a variable no_house the registers where ['isHomeOwner']=False and makes a count\n",
    "\n",
    "w_house_gender = df[df['isHomeOwner'] == True].groupby('gender')['isHomeOwner'].count()  #Store in a a variable w_house_gender the registers where ['isHomeOwner']=True and makes a count\n",
    "\n",
    "print(f\"Quantity of persons who no owns a house by gender: \\n{no_house_gender.to_string(header=False)}\")    #Show results\n",
    "print(f\"\\nQuantity of persons who owns a house by gender \\n{w_house_gender.to_string(header=False)}\")"
   ]
  },
  {
   "cell_type": "code",
   "execution_count": 16,
   "metadata": {},
   "outputs": [
    {
     "data": {
      "image/png": "[encoded data removed]",
      "text/plain": [
       "<Figure size 640x480 with 1 Axes>"
      ]
     },
     "metadata": {},
     "output_type": "display_data"
    }
   ],
   "source": [
    "#Verifying outliers in the income column\n",
    "\n",
    "incomes = df['income']     #Variable that select the ['income'] column\n",
    "\n",
    "plt.hist(incomes, bins=10, color='skyblue', edgecolor='black')     #Histogram with the income column\n",
    "\n",
    "plt.xlabel('Salaries')\n",
    "plt.ylabel('Frequency')\n",
    "plt.title('Incomes Histogram')\n",
    "\n",
    "umbral_outlier = 35000       #The outlier threshold is defined where subsequently x='umbral_outlier' (25.000)\n",
    "\n",
    "plt.axvline(x=umbral_outlier, color='red', linestyle='--', label='Outlier Umbral')\n",
    "\n",
    "plt.legend()\n",
    "plt.show()\n",
    "\n",
    "#Results = outliers didn't has observed"
   ]
  },
  {
   "cell_type": "code",
   "execution_count": null,
   "metadata": {},
   "outputs": [],
   "source": []
  }
 ],
 "metadata": {
  "kernelspec": {
   "display_name": "Python 3",
   "language": "python",
   "name": "python3"
  },
  "language_info": {
   "codemirror_mode": {
    "name": "ipython",
    "version": 3
   },
   "file_extension": ".py",
   "mimetype": "text/x-python",
   "name": "python",
   "nbconvert_exporter": "python",
   "pygments_lexer": "ipython3",
   "version": "3.11.6"
  }
 },
 "nbformat": 4,
 "nbformat_minor": 2
}
